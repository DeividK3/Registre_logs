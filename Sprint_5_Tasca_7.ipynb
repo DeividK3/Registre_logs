{
 "cells": [
  {
   "cell_type": "markdown",
   "metadata": {},
   "source": [
    "# Tasca 7: Transformació Registre Log amb Regular Expressions"
   ]
  },
  {
   "cell_type": "code",
   "execution_count": 1,
   "metadata": {},
   "outputs": [],
   "source": [
    "# Càrrega de llibreries i métodes\n",
    "import pandas as pd\n",
    "import numpy as np\n",
    "import re\n",
    "import datetime as dt\n",
    "from device_detector import SoftwareDetector\n",
    "import matplotlib.pyplot as plt\n",
    "import seaborn as sns\n",
    "\n",
    "pd.set_option('display.max_columns', None)"
   ]
  },
  {
   "cell_type": "markdown",
   "metadata": {},
   "source": [
    "## Nivell 1\n",
    "### - Exercici 1\n",
    "__Normalitza, identifica i enumera cada un dels atributs / variables de l'estructura de l'arxiu \"Web_access_log-akumenius.com\" que trobaràs al repositori de GitHub \"Data-sources\".__"
   ]
  },
  {
   "cell_type": "code",
   "execution_count": 2,
   "metadata": {},
   "outputs": [
    {
     "data": {
      "text/html": [
       "<div>\n",
       "<style scoped>\n",
       "    .dataframe tbody tr th:only-of-type {\n",
       "        vertical-align: middle;\n",
       "    }\n",
       "\n",
       "    .dataframe tbody tr th {\n",
       "        vertical-align: top;\n",
       "    }\n",
       "\n",
       "    .dataframe thead th {\n",
       "        text-align: right;\n",
       "    }\n",
       "</style>\n",
       "<table border=\"1\" class=\"dataframe\">\n",
       "  <thead>\n",
       "    <tr style=\"text-align: right;\">\n",
       "      <th></th>\n",
       "      <th>0</th>\n",
       "    </tr>\n",
       "  </thead>\n",
       "  <tbody>\n",
       "    <tr>\n",
       "      <th>0</th>\n",
       "      <td>localhost 127.0.0.1 - - [23/Feb/2014:03:10:31 ...</td>\n",
       "    </tr>\n",
       "    <tr>\n",
       "      <th>1</th>\n",
       "      <td>localhost 127.0.0.1 - - [23/Feb/2014:03:10:31 ...</td>\n",
       "    </tr>\n",
       "    <tr>\n",
       "      <th>2</th>\n",
       "      <td>localhost 127.0.0.1 - - [23/Feb/2014:03:10:31 ...</td>\n",
       "    </tr>\n",
       "    <tr>\n",
       "      <th>3</th>\n",
       "      <td>localhost 127.0.0.1 - - [23/Feb/2014:03:10:31 ...</td>\n",
       "    </tr>\n",
       "    <tr>\n",
       "      <th>4</th>\n",
       "      <td>localhost 127.0.0.1 - - [23/Feb/2014:03:10:31 ...</td>\n",
       "    </tr>\n",
       "  </tbody>\n",
       "</table>\n",
       "</div>"
      ],
      "text/plain": [
       "                                                   0\n",
       "0  localhost 127.0.0.1 - - [23/Feb/2014:03:10:31 ...\n",
       "1  localhost 127.0.0.1 - - [23/Feb/2014:03:10:31 ...\n",
       "2  localhost 127.0.0.1 - - [23/Feb/2014:03:10:31 ...\n",
       "3  localhost 127.0.0.1 - - [23/Feb/2014:03:10:31 ...\n",
       "4  localhost 127.0.0.1 - - [23/Feb/2014:03:10:31 ..."
      ]
     },
     "execution_count": 2,
     "metadata": {},
     "output_type": "execute_result"
    }
   ],
   "source": [
    "# Càrrega de la base de dades\n",
    "df_logs = pd.read_csv('Web_access_log-akumenius.com.txt', sep='delimiter', header=None, engine='python')\n",
    "df_logs.head()"
   ]
  },
  {
   "cell_type": "code",
   "execution_count": 3,
   "metadata": {},
   "outputs": [],
   "source": [
    "# Es crea una copia de la base de dades\n",
    "df_copy = df_logs.copy()"
   ]
  },
  {
   "cell_type": "code",
   "execution_count": 4,
   "metadata": {},
   "outputs": [],
   "source": [
    "# Es crea un nou dataframe buit que contindrà les dades separades en columnes\n",
    "df_logs_final = pd.DataFrame()"
   ]
  },
  {
   "cell_type": "markdown",
   "metadata": {},
   "source": [
    "<span style='color:blue;font-size:18px'><b> Variable 1: Host </b></span>"
   ]
  },
  {
   "cell_type": "code",
   "execution_count": 5,
   "metadata": {},
   "outputs": [
    {
     "data": {
      "text/html": [
       "<div>\n",
       "<style scoped>\n",
       "    .dataframe tbody tr th:only-of-type {\n",
       "        vertical-align: middle;\n",
       "    }\n",
       "\n",
       "    .dataframe tbody tr th {\n",
       "        vertical-align: top;\n",
       "    }\n",
       "\n",
       "    .dataframe thead th {\n",
       "        text-align: right;\n",
       "    }\n",
       "</style>\n",
       "<table border=\"1\" class=\"dataframe\">\n",
       "  <thead>\n",
       "    <tr style=\"text-align: right;\">\n",
       "      <th></th>\n",
       "      <th>Host</th>\n",
       "    </tr>\n",
       "  </thead>\n",
       "  <tbody>\n",
       "    <tr>\n",
       "      <th>0</th>\n",
       "      <td>[localhost]</td>\n",
       "    </tr>\n",
       "    <tr>\n",
       "      <th>1</th>\n",
       "      <td>[localhost]</td>\n",
       "    </tr>\n",
       "    <tr>\n",
       "      <th>2</th>\n",
       "      <td>[localhost]</td>\n",
       "    </tr>\n",
       "    <tr>\n",
       "      <th>3</th>\n",
       "      <td>[localhost]</td>\n",
       "    </tr>\n",
       "    <tr>\n",
       "      <th>4</th>\n",
       "      <td>[localhost]</td>\n",
       "    </tr>\n",
       "  </tbody>\n",
       "</table>\n",
       "</div>"
      ],
      "text/plain": [
       "          Host\n",
       "0  [localhost]\n",
       "1  [localhost]\n",
       "2  [localhost]\n",
       "3  [localhost]\n",
       "4  [localhost]"
      ]
     },
     "execution_count": 5,
     "metadata": {},
     "output_type": "execute_result"
    }
   ],
   "source": [
    "# Es crea la variable (Direccio), que indica el nom del lloc on s'estableix la conexió\n",
    "# Regex: cometes + (un o més caràcters) + espai + un o més digits + punt\n",
    "df_logs_final['Host'] = df_copy.iloc[:,0].apply(lambda x: re.findall(r'^(.*?)\\s.*', str(x)))\n",
    "df_logs_final.head()"
   ]
  },
  {
   "cell_type": "markdown",
   "metadata": {},
   "source": [
    "<span style='color:blue;font-size:18px'><b> Variable 2: IP </b></span>"
   ]
  },
  {
   "cell_type": "code",
   "execution_count": 6,
   "metadata": {},
   "outputs": [
    {
     "data": {
      "text/html": [
       "<div>\n",
       "<style scoped>\n",
       "    .dataframe tbody tr th:only-of-type {\n",
       "        vertical-align: middle;\n",
       "    }\n",
       "\n",
       "    .dataframe tbody tr th {\n",
       "        vertical-align: top;\n",
       "    }\n",
       "\n",
       "    .dataframe thead th {\n",
       "        text-align: right;\n",
       "    }\n",
       "</style>\n",
       "<table border=\"1\" class=\"dataframe\">\n",
       "  <thead>\n",
       "    <tr style=\"text-align: right;\">\n",
       "      <th></th>\n",
       "      <th>Host</th>\n",
       "      <th>IP</th>\n",
       "    </tr>\n",
       "  </thead>\n",
       "  <tbody>\n",
       "    <tr>\n",
       "      <th>0</th>\n",
       "      <td>[localhost]</td>\n",
       "      <td>[127.0.0.1]</td>\n",
       "    </tr>\n",
       "    <tr>\n",
       "      <th>1</th>\n",
       "      <td>[localhost]</td>\n",
       "      <td>[127.0.0.1]</td>\n",
       "    </tr>\n",
       "    <tr>\n",
       "      <th>2</th>\n",
       "      <td>[localhost]</td>\n",
       "      <td>[127.0.0.1]</td>\n",
       "    </tr>\n",
       "    <tr>\n",
       "      <th>3</th>\n",
       "      <td>[localhost]</td>\n",
       "      <td>[127.0.0.1]</td>\n",
       "    </tr>\n",
       "    <tr>\n",
       "      <th>4</th>\n",
       "      <td>[localhost]</td>\n",
       "      <td>[127.0.0.1]</td>\n",
       "    </tr>\n",
       "  </tbody>\n",
       "</table>\n",
       "</div>"
      ],
      "text/plain": [
       "          Host           IP\n",
       "0  [localhost]  [127.0.0.1]\n",
       "1  [localhost]  [127.0.0.1]\n",
       "2  [localhost]  [127.0.0.1]\n",
       "3  [localhost]  [127.0.0.1]\n",
       "4  [localhost]  [127.0.0.1]"
      ]
     },
     "execution_count": 6,
     "metadata": {},
     "output_type": "execute_result"
    }
   ],
   "source": [
    "# Es crea la variable (IP), que indica la direcció IP des d'on es realitza la petició\n",
    "# Regex: (Un o més digits + punt + un o més digits + . + qualsevol caràcter fins) un espai + guió + espai + guió\n",
    "df_logs_final['IP'] = df_copy.iloc[:,0].apply(lambda x: re.findall(r'(\\d+\\.\\d+\\..*)\\s-\\s-', str(x)))\n",
    "df_logs_final.head()"
   ]
  },
  {
   "cell_type": "markdown",
   "metadata": {},
   "source": [
    "<span style='color:blue;font-size:18px'><b> Variable 3: Moment_conexio </b></span>"
   ]
  },
  {
   "cell_type": "code",
   "execution_count": 7,
   "metadata": {},
   "outputs": [
    {
     "data": {
      "text/html": [
       "<div>\n",
       "<style scoped>\n",
       "    .dataframe tbody tr th:only-of-type {\n",
       "        vertical-align: middle;\n",
       "    }\n",
       "\n",
       "    .dataframe tbody tr th {\n",
       "        vertical-align: top;\n",
       "    }\n",
       "\n",
       "    .dataframe thead th {\n",
       "        text-align: right;\n",
       "    }\n",
       "</style>\n",
       "<table border=\"1\" class=\"dataframe\">\n",
       "  <thead>\n",
       "    <tr style=\"text-align: right;\">\n",
       "      <th></th>\n",
       "      <th>Host</th>\n",
       "      <th>IP</th>\n",
       "      <th>Moment_conexio</th>\n",
       "    </tr>\n",
       "  </thead>\n",
       "  <tbody>\n",
       "    <tr>\n",
       "      <th>0</th>\n",
       "      <td>[localhost]</td>\n",
       "      <td>[127.0.0.1]</td>\n",
       "      <td>[23/Feb/2014:03:10:31 +0100]</td>\n",
       "    </tr>\n",
       "    <tr>\n",
       "      <th>1</th>\n",
       "      <td>[localhost]</td>\n",
       "      <td>[127.0.0.1]</td>\n",
       "      <td>[23/Feb/2014:03:10:31 +0100]</td>\n",
       "    </tr>\n",
       "    <tr>\n",
       "      <th>2</th>\n",
       "      <td>[localhost]</td>\n",
       "      <td>[127.0.0.1]</td>\n",
       "      <td>[23/Feb/2014:03:10:31 +0100]</td>\n",
       "    </tr>\n",
       "    <tr>\n",
       "      <th>3</th>\n",
       "      <td>[localhost]</td>\n",
       "      <td>[127.0.0.1]</td>\n",
       "      <td>[23/Feb/2014:03:10:31 +0100]</td>\n",
       "    </tr>\n",
       "    <tr>\n",
       "      <th>4</th>\n",
       "      <td>[localhost]</td>\n",
       "      <td>[127.0.0.1]</td>\n",
       "      <td>[23/Feb/2014:03:10:31 +0100]</td>\n",
       "    </tr>\n",
       "  </tbody>\n",
       "</table>\n",
       "</div>"
      ],
      "text/plain": [
       "          Host           IP                Moment_conexio\n",
       "0  [localhost]  [127.0.0.1]  [23/Feb/2014:03:10:31 +0100]\n",
       "1  [localhost]  [127.0.0.1]  [23/Feb/2014:03:10:31 +0100]\n",
       "2  [localhost]  [127.0.0.1]  [23/Feb/2014:03:10:31 +0100]\n",
       "3  [localhost]  [127.0.0.1]  [23/Feb/2014:03:10:31 +0100]\n",
       "4  [localhost]  [127.0.0.1]  [23/Feb/2014:03:10:31 +0100]"
      ]
     },
     "execution_count": 7,
     "metadata": {},
     "output_type": "execute_result"
    }
   ],
   "source": [
    "# Es crea la variable (Moment_conexio), que indica la data i l'hora en que el servidor finalitza el porcés de petició\n",
    "# Regex: Espai + (Qualsevol caracter entre claudàtors), exclosos + espai + cometes\n",
    "df_logs_final['Moment_conexio'] = df_copy.iloc[:,0].apply(lambda x: re.findall(r'\\s\\[(.+)\\]\\s\"', str(x)))\n",
    "df_logs_final.head()"
   ]
  },
  {
   "cell_type": "markdown",
   "metadata": {},
   "source": [
    "<span style='color:blue;font-size:18px'><b> Variable 4: Peticio </b></span>"
   ]
  },
  {
   "cell_type": "code",
   "execution_count": 8,
   "metadata": {},
   "outputs": [
    {
     "data": {
      "text/html": [
       "<div>\n",
       "<style scoped>\n",
       "    .dataframe tbody tr th:only-of-type {\n",
       "        vertical-align: middle;\n",
       "    }\n",
       "\n",
       "    .dataframe tbody tr th {\n",
       "        vertical-align: top;\n",
       "    }\n",
       "\n",
       "    .dataframe thead th {\n",
       "        text-align: right;\n",
       "    }\n",
       "</style>\n",
       "<table border=\"1\" class=\"dataframe\">\n",
       "  <thead>\n",
       "    <tr style=\"text-align: right;\">\n",
       "      <th></th>\n",
       "      <th>Host</th>\n",
       "      <th>IP</th>\n",
       "      <th>Moment_conexio</th>\n",
       "      <th>Peticio</th>\n",
       "    </tr>\n",
       "  </thead>\n",
       "  <tbody>\n",
       "    <tr>\n",
       "      <th>0</th>\n",
       "      <td>[localhost]</td>\n",
       "      <td>[127.0.0.1]</td>\n",
       "      <td>[23/Feb/2014:03:10:31 +0100]</td>\n",
       "      <td>[OPTIONS * HTTP/1.0]</td>\n",
       "    </tr>\n",
       "    <tr>\n",
       "      <th>1</th>\n",
       "      <td>[localhost]</td>\n",
       "      <td>[127.0.0.1]</td>\n",
       "      <td>[23/Feb/2014:03:10:31 +0100]</td>\n",
       "      <td>[OPTIONS * HTTP/1.0]</td>\n",
       "    </tr>\n",
       "    <tr>\n",
       "      <th>2</th>\n",
       "      <td>[localhost]</td>\n",
       "      <td>[127.0.0.1]</td>\n",
       "      <td>[23/Feb/2014:03:10:31 +0100]</td>\n",
       "      <td>[OPTIONS * HTTP/1.0]</td>\n",
       "    </tr>\n",
       "    <tr>\n",
       "      <th>3</th>\n",
       "      <td>[localhost]</td>\n",
       "      <td>[127.0.0.1]</td>\n",
       "      <td>[23/Feb/2014:03:10:31 +0100]</td>\n",
       "      <td>[OPTIONS * HTTP/1.0]</td>\n",
       "    </tr>\n",
       "    <tr>\n",
       "      <th>4</th>\n",
       "      <td>[localhost]</td>\n",
       "      <td>[127.0.0.1]</td>\n",
       "      <td>[23/Feb/2014:03:10:31 +0100]</td>\n",
       "      <td>[OPTIONS * HTTP/1.0]</td>\n",
       "    </tr>\n",
       "  </tbody>\n",
       "</table>\n",
       "</div>"
      ],
      "text/plain": [
       "          Host           IP                Moment_conexio  \\\n",
       "0  [localhost]  [127.0.0.1]  [23/Feb/2014:03:10:31 +0100]   \n",
       "1  [localhost]  [127.0.0.1]  [23/Feb/2014:03:10:31 +0100]   \n",
       "2  [localhost]  [127.0.0.1]  [23/Feb/2014:03:10:31 +0100]   \n",
       "3  [localhost]  [127.0.0.1]  [23/Feb/2014:03:10:31 +0100]   \n",
       "4  [localhost]  [127.0.0.1]  [23/Feb/2014:03:10:31 +0100]   \n",
       "\n",
       "                Peticio  \n",
       "0  [OPTIONS * HTTP/1.0]  \n",
       "1  [OPTIONS * HTTP/1.0]  \n",
       "2  [OPTIONS * HTTP/1.0]  \n",
       "3  [OPTIONS * HTTP/1.0]  \n",
       "4  [OPTIONS * HTTP/1.0]  "
      ]
     },
     "execution_count": 8,
     "metadata": {},
     "output_type": "execute_result"
    }
   ],
   "source": [
    "# Es crea la variable (Peticio), que indica la línea de petició del client\n",
    "# Regex: (Qualsevol caracter entre cometes dobles), exclosos + espai + un o més digits\n",
    "df_logs_final['Peticio'] = df_copy.iloc[:,0].apply(lambda x: re.findall(r'\"(.+)\"\\s\\d+', str(x)))\n",
    "df_logs_final.head()"
   ]
  },
  {
   "cell_type": "markdown",
   "metadata": {},
   "source": [
    "<span style='color:blue;font-size:18px'><b> Variable 5: Status </b></span>"
   ]
  },
  {
   "cell_type": "code",
   "execution_count": 9,
   "metadata": {},
   "outputs": [
    {
     "data": {
      "text/html": [
       "<div>\n",
       "<style scoped>\n",
       "    .dataframe tbody tr th:only-of-type {\n",
       "        vertical-align: middle;\n",
       "    }\n",
       "\n",
       "    .dataframe tbody tr th {\n",
       "        vertical-align: top;\n",
       "    }\n",
       "\n",
       "    .dataframe thead th {\n",
       "        text-align: right;\n",
       "    }\n",
       "</style>\n",
       "<table border=\"1\" class=\"dataframe\">\n",
       "  <thead>\n",
       "    <tr style=\"text-align: right;\">\n",
       "      <th></th>\n",
       "      <th>Host</th>\n",
       "      <th>IP</th>\n",
       "      <th>Moment_conexio</th>\n",
       "      <th>Peticio</th>\n",
       "      <th>Status</th>\n",
       "    </tr>\n",
       "  </thead>\n",
       "  <tbody>\n",
       "    <tr>\n",
       "      <th>0</th>\n",
       "      <td>[localhost]</td>\n",
       "      <td>[127.0.0.1]</td>\n",
       "      <td>[23/Feb/2014:03:10:31 +0100]</td>\n",
       "      <td>[OPTIONS * HTTP/1.0]</td>\n",
       "      <td>[200]</td>\n",
       "    </tr>\n",
       "    <tr>\n",
       "      <th>1</th>\n",
       "      <td>[localhost]</td>\n",
       "      <td>[127.0.0.1]</td>\n",
       "      <td>[23/Feb/2014:03:10:31 +0100]</td>\n",
       "      <td>[OPTIONS * HTTP/1.0]</td>\n",
       "      <td>[200]</td>\n",
       "    </tr>\n",
       "    <tr>\n",
       "      <th>2</th>\n",
       "      <td>[localhost]</td>\n",
       "      <td>[127.0.0.1]</td>\n",
       "      <td>[23/Feb/2014:03:10:31 +0100]</td>\n",
       "      <td>[OPTIONS * HTTP/1.0]</td>\n",
       "      <td>[200]</td>\n",
       "    </tr>\n",
       "    <tr>\n",
       "      <th>3</th>\n",
       "      <td>[localhost]</td>\n",
       "      <td>[127.0.0.1]</td>\n",
       "      <td>[23/Feb/2014:03:10:31 +0100]</td>\n",
       "      <td>[OPTIONS * HTTP/1.0]</td>\n",
       "      <td>[200]</td>\n",
       "    </tr>\n",
       "    <tr>\n",
       "      <th>4</th>\n",
       "      <td>[localhost]</td>\n",
       "      <td>[127.0.0.1]</td>\n",
       "      <td>[23/Feb/2014:03:10:31 +0100]</td>\n",
       "      <td>[OPTIONS * HTTP/1.0]</td>\n",
       "      <td>[200]</td>\n",
       "    </tr>\n",
       "  </tbody>\n",
       "</table>\n",
       "</div>"
      ],
      "text/plain": [
       "          Host           IP                Moment_conexio  \\\n",
       "0  [localhost]  [127.0.0.1]  [23/Feb/2014:03:10:31 +0100]   \n",
       "1  [localhost]  [127.0.0.1]  [23/Feb/2014:03:10:31 +0100]   \n",
       "2  [localhost]  [127.0.0.1]  [23/Feb/2014:03:10:31 +0100]   \n",
       "3  [localhost]  [127.0.0.1]  [23/Feb/2014:03:10:31 +0100]   \n",
       "4  [localhost]  [127.0.0.1]  [23/Feb/2014:03:10:31 +0100]   \n",
       "\n",
       "                Peticio Status  \n",
       "0  [OPTIONS * HTTP/1.0]  [200]  \n",
       "1  [OPTIONS * HTTP/1.0]  [200]  \n",
       "2  [OPTIONS * HTTP/1.0]  [200]  \n",
       "3  [OPTIONS * HTTP/1.0]  [200]  \n",
       "4  [OPTIONS * HTTP/1.0]  [200]  "
      ]
     },
     "execution_count": 9,
     "metadata": {},
     "output_type": "execute_result"
    }
   ],
   "source": [
    "# Es crea la variable (Status), que indica el codi d'estatus que el server envia pel client\n",
    "# Regex: cometws + espai + (3 digits) + espai \n",
    "df_logs_final['Status'] = df_copy.iloc[:,0].apply(lambda x: re.findall(r'\"\\s(\\d\\d\\d)\\s', str(x)))\n",
    "df_logs_final.head()"
   ]
  },
  {
   "cell_type": "markdown",
   "metadata": {},
   "source": [
    "<span style='color:blue;font-size:18px'><b> Variable 6: Size </b></span>"
   ]
  },
  {
   "cell_type": "code",
   "execution_count": 10,
   "metadata": {},
   "outputs": [
    {
     "data": {
      "text/html": [
       "<div>\n",
       "<style scoped>\n",
       "    .dataframe tbody tr th:only-of-type {\n",
       "        vertical-align: middle;\n",
       "    }\n",
       "\n",
       "    .dataframe tbody tr th {\n",
       "        vertical-align: top;\n",
       "    }\n",
       "\n",
       "    .dataframe thead th {\n",
       "        text-align: right;\n",
       "    }\n",
       "</style>\n",
       "<table border=\"1\" class=\"dataframe\">\n",
       "  <thead>\n",
       "    <tr style=\"text-align: right;\">\n",
       "      <th></th>\n",
       "      <th>Host</th>\n",
       "      <th>IP</th>\n",
       "      <th>Moment_conexio</th>\n",
       "      <th>Peticio</th>\n",
       "      <th>Status</th>\n",
       "      <th>Size</th>\n",
       "    </tr>\n",
       "  </thead>\n",
       "  <tbody>\n",
       "    <tr>\n",
       "      <th>0</th>\n",
       "      <td>[localhost]</td>\n",
       "      <td>[127.0.0.1]</td>\n",
       "      <td>[23/Feb/2014:03:10:31 +0100]</td>\n",
       "      <td>[OPTIONS * HTTP/1.0]</td>\n",
       "      <td>[200]</td>\n",
       "      <td>[-]</td>\n",
       "    </tr>\n",
       "    <tr>\n",
       "      <th>1</th>\n",
       "      <td>[localhost]</td>\n",
       "      <td>[127.0.0.1]</td>\n",
       "      <td>[23/Feb/2014:03:10:31 +0100]</td>\n",
       "      <td>[OPTIONS * HTTP/1.0]</td>\n",
       "      <td>[200]</td>\n",
       "      <td>[-]</td>\n",
       "    </tr>\n",
       "    <tr>\n",
       "      <th>2</th>\n",
       "      <td>[localhost]</td>\n",
       "      <td>[127.0.0.1]</td>\n",
       "      <td>[23/Feb/2014:03:10:31 +0100]</td>\n",
       "      <td>[OPTIONS * HTTP/1.0]</td>\n",
       "      <td>[200]</td>\n",
       "      <td>[-]</td>\n",
       "    </tr>\n",
       "    <tr>\n",
       "      <th>3</th>\n",
       "      <td>[localhost]</td>\n",
       "      <td>[127.0.0.1]</td>\n",
       "      <td>[23/Feb/2014:03:10:31 +0100]</td>\n",
       "      <td>[OPTIONS * HTTP/1.0]</td>\n",
       "      <td>[200]</td>\n",
       "      <td>[-]</td>\n",
       "    </tr>\n",
       "    <tr>\n",
       "      <th>4</th>\n",
       "      <td>[localhost]</td>\n",
       "      <td>[127.0.0.1]</td>\n",
       "      <td>[23/Feb/2014:03:10:31 +0100]</td>\n",
       "      <td>[OPTIONS * HTTP/1.0]</td>\n",
       "      <td>[200]</td>\n",
       "      <td>[-]</td>\n",
       "    </tr>\n",
       "  </tbody>\n",
       "</table>\n",
       "</div>"
      ],
      "text/plain": [
       "          Host           IP                Moment_conexio  \\\n",
       "0  [localhost]  [127.0.0.1]  [23/Feb/2014:03:10:31 +0100]   \n",
       "1  [localhost]  [127.0.0.1]  [23/Feb/2014:03:10:31 +0100]   \n",
       "2  [localhost]  [127.0.0.1]  [23/Feb/2014:03:10:31 +0100]   \n",
       "3  [localhost]  [127.0.0.1]  [23/Feb/2014:03:10:31 +0100]   \n",
       "4  [localhost]  [127.0.0.1]  [23/Feb/2014:03:10:31 +0100]   \n",
       "\n",
       "                Peticio Status Size  \n",
       "0  [OPTIONS * HTTP/1.0]  [200]  [-]  \n",
       "1  [OPTIONS * HTTP/1.0]  [200]  [-]  \n",
       "2  [OPTIONS * HTTP/1.0]  [200]  [-]  \n",
       "3  [OPTIONS * HTTP/1.0]  [200]  [-]  \n",
       "4  [OPTIONS * HTTP/1.0]  [200]  [-]  "
      ]
     },
     "execution_count": 10,
     "metadata": {},
     "output_type": "execute_result"
    }
   ],
   "source": [
    "# Es crea la variable (Size), que indica la grandària de l'objecte retornat al client. \"-\" indica que no es retorna valor\n",
    "# Regex: qualsevol digit + espai + (guió o un o més digits) + espai + cometes\n",
    "df_logs_final['Size'] = df_copy.iloc[:,0].apply(lambda x: re.findall(r'\\d\\s(-|\\d+)\\s\"', str(x)))\n",
    "df_logs_final.head()"
   ]
  },
  {
   "cell_type": "markdown",
   "metadata": {},
   "source": [
    "<span style='color:blue;font-size:18px'><b> Variable 7: Referer </b></span>"
   ]
  },
  {
   "cell_type": "code",
   "execution_count": 11,
   "metadata": {},
   "outputs": [
    {
     "data": {
      "text/html": [
       "<div>\n",
       "<style scoped>\n",
       "    .dataframe tbody tr th:only-of-type {\n",
       "        vertical-align: middle;\n",
       "    }\n",
       "\n",
       "    .dataframe tbody tr th {\n",
       "        vertical-align: top;\n",
       "    }\n",
       "\n",
       "    .dataframe thead th {\n",
       "        text-align: right;\n",
       "    }\n",
       "</style>\n",
       "<table border=\"1\" class=\"dataframe\">\n",
       "  <thead>\n",
       "    <tr style=\"text-align: right;\">\n",
       "      <th></th>\n",
       "      <th>Host</th>\n",
       "      <th>IP</th>\n",
       "      <th>Moment_conexio</th>\n",
       "      <th>Peticio</th>\n",
       "      <th>Status</th>\n",
       "      <th>Size</th>\n",
       "      <th>Referer</th>\n",
       "    </tr>\n",
       "  </thead>\n",
       "  <tbody>\n",
       "    <tr>\n",
       "      <th>0</th>\n",
       "      <td>[localhost]</td>\n",
       "      <td>[127.0.0.1]</td>\n",
       "      <td>[23/Feb/2014:03:10:31 +0100]</td>\n",
       "      <td>[OPTIONS * HTTP/1.0]</td>\n",
       "      <td>[200]</td>\n",
       "      <td>[-]</td>\n",
       "      <td>[-]</td>\n",
       "    </tr>\n",
       "    <tr>\n",
       "      <th>1</th>\n",
       "      <td>[localhost]</td>\n",
       "      <td>[127.0.0.1]</td>\n",
       "      <td>[23/Feb/2014:03:10:31 +0100]</td>\n",
       "      <td>[OPTIONS * HTTP/1.0]</td>\n",
       "      <td>[200]</td>\n",
       "      <td>[-]</td>\n",
       "      <td>[-]</td>\n",
       "    </tr>\n",
       "    <tr>\n",
       "      <th>2</th>\n",
       "      <td>[localhost]</td>\n",
       "      <td>[127.0.0.1]</td>\n",
       "      <td>[23/Feb/2014:03:10:31 +0100]</td>\n",
       "      <td>[OPTIONS * HTTP/1.0]</td>\n",
       "      <td>[200]</td>\n",
       "      <td>[-]</td>\n",
       "      <td>[-]</td>\n",
       "    </tr>\n",
       "    <tr>\n",
       "      <th>3</th>\n",
       "      <td>[localhost]</td>\n",
       "      <td>[127.0.0.1]</td>\n",
       "      <td>[23/Feb/2014:03:10:31 +0100]</td>\n",
       "      <td>[OPTIONS * HTTP/1.0]</td>\n",
       "      <td>[200]</td>\n",
       "      <td>[-]</td>\n",
       "      <td>[-]</td>\n",
       "    </tr>\n",
       "    <tr>\n",
       "      <th>4</th>\n",
       "      <td>[localhost]</td>\n",
       "      <td>[127.0.0.1]</td>\n",
       "      <td>[23/Feb/2014:03:10:31 +0100]</td>\n",
       "      <td>[OPTIONS * HTTP/1.0]</td>\n",
       "      <td>[200]</td>\n",
       "      <td>[-]</td>\n",
       "      <td>[-]</td>\n",
       "    </tr>\n",
       "  </tbody>\n",
       "</table>\n",
       "</div>"
      ],
      "text/plain": [
       "          Host           IP                Moment_conexio  \\\n",
       "0  [localhost]  [127.0.0.1]  [23/Feb/2014:03:10:31 +0100]   \n",
       "1  [localhost]  [127.0.0.1]  [23/Feb/2014:03:10:31 +0100]   \n",
       "2  [localhost]  [127.0.0.1]  [23/Feb/2014:03:10:31 +0100]   \n",
       "3  [localhost]  [127.0.0.1]  [23/Feb/2014:03:10:31 +0100]   \n",
       "4  [localhost]  [127.0.0.1]  [23/Feb/2014:03:10:31 +0100]   \n",
       "\n",
       "                Peticio Status Size Referer  \n",
       "0  [OPTIONS * HTTP/1.0]  [200]  [-]     [-]  \n",
       "1  [OPTIONS * HTTP/1.0]  [200]  [-]     [-]  \n",
       "2  [OPTIONS * HTTP/1.0]  [200]  [-]     [-]  \n",
       "3  [OPTIONS * HTTP/1.0]  [200]  [-]     [-]  \n",
       "4  [OPTIONS * HTTP/1.0]  [200]  [-]     [-]  "
      ]
     },
     "execution_count": 11,
     "metadata": {},
     "output_type": "execute_result"
    }
   ],
   "source": [
    "# Es crea la variable (Referer), que indica el lloc des d'on el client informa haber sigut referit\n",
    "# Regex: Qualsevol caràcter que no sigui ] o \" + espai + cometes + (un o més caràcters) + cometes + espai + \n",
    "# + cometes + un o més caràcters + cometes, exclosos\n",
    "df_logs_final['Referer'] = df_copy.iloc[:,0].apply(lambda x: re.findall(r'[^]\"]\\s\"(.+)\"\\s\".+\"', str(x)))\n",
    "df_logs_final.head()"
   ]
  },
  {
   "cell_type": "markdown",
   "metadata": {},
   "source": [
    "<span style='color:blue;font-size:18px'><b> Variable 8: Dispositiu </b></span>"
   ]
  },
  {
   "cell_type": "code",
   "execution_count": 12,
   "metadata": {},
   "outputs": [
    {
     "data": {
      "text/html": [
       "<div>\n",
       "<style scoped>\n",
       "    .dataframe tbody tr th:only-of-type {\n",
       "        vertical-align: middle;\n",
       "    }\n",
       "\n",
       "    .dataframe tbody tr th {\n",
       "        vertical-align: top;\n",
       "    }\n",
       "\n",
       "    .dataframe thead th {\n",
       "        text-align: right;\n",
       "    }\n",
       "</style>\n",
       "<table border=\"1\" class=\"dataframe\">\n",
       "  <thead>\n",
       "    <tr style=\"text-align: right;\">\n",
       "      <th></th>\n",
       "      <th>Host</th>\n",
       "      <th>IP</th>\n",
       "      <th>Moment_conexio</th>\n",
       "      <th>Peticio</th>\n",
       "      <th>Status</th>\n",
       "      <th>Size</th>\n",
       "      <th>Referer</th>\n",
       "      <th>Dispositiu</th>\n",
       "    </tr>\n",
       "  </thead>\n",
       "  <tbody>\n",
       "    <tr>\n",
       "      <th>0</th>\n",
       "      <td>[localhost]</td>\n",
       "      <td>[127.0.0.1]</td>\n",
       "      <td>[23/Feb/2014:03:10:31 +0100]</td>\n",
       "      <td>[OPTIONS * HTTP/1.0]</td>\n",
       "      <td>[200]</td>\n",
       "      <td>[-]</td>\n",
       "      <td>[-]</td>\n",
       "      <td>[Apache (internal dummy connection)]</td>\n",
       "    </tr>\n",
       "    <tr>\n",
       "      <th>1</th>\n",
       "      <td>[localhost]</td>\n",
       "      <td>[127.0.0.1]</td>\n",
       "      <td>[23/Feb/2014:03:10:31 +0100]</td>\n",
       "      <td>[OPTIONS * HTTP/1.0]</td>\n",
       "      <td>[200]</td>\n",
       "      <td>[-]</td>\n",
       "      <td>[-]</td>\n",
       "      <td>[Apache (internal dummy connection)]</td>\n",
       "    </tr>\n",
       "    <tr>\n",
       "      <th>2</th>\n",
       "      <td>[localhost]</td>\n",
       "      <td>[127.0.0.1]</td>\n",
       "      <td>[23/Feb/2014:03:10:31 +0100]</td>\n",
       "      <td>[OPTIONS * HTTP/1.0]</td>\n",
       "      <td>[200]</td>\n",
       "      <td>[-]</td>\n",
       "      <td>[-]</td>\n",
       "      <td>[Apache (internal dummy connection)]</td>\n",
       "    </tr>\n",
       "    <tr>\n",
       "      <th>3</th>\n",
       "      <td>[localhost]</td>\n",
       "      <td>[127.0.0.1]</td>\n",
       "      <td>[23/Feb/2014:03:10:31 +0100]</td>\n",
       "      <td>[OPTIONS * HTTP/1.0]</td>\n",
       "      <td>[200]</td>\n",
       "      <td>[-]</td>\n",
       "      <td>[-]</td>\n",
       "      <td>[Apache (internal dummy connection)]</td>\n",
       "    </tr>\n",
       "    <tr>\n",
       "      <th>4</th>\n",
       "      <td>[localhost]</td>\n",
       "      <td>[127.0.0.1]</td>\n",
       "      <td>[23/Feb/2014:03:10:31 +0100]</td>\n",
       "      <td>[OPTIONS * HTTP/1.0]</td>\n",
       "      <td>[200]</td>\n",
       "      <td>[-]</td>\n",
       "      <td>[-]</td>\n",
       "      <td>[Apache (internal dummy connection)]</td>\n",
       "    </tr>\n",
       "  </tbody>\n",
       "</table>\n",
       "</div>"
      ],
      "text/plain": [
       "          Host           IP                Moment_conexio  \\\n",
       "0  [localhost]  [127.0.0.1]  [23/Feb/2014:03:10:31 +0100]   \n",
       "1  [localhost]  [127.0.0.1]  [23/Feb/2014:03:10:31 +0100]   \n",
       "2  [localhost]  [127.0.0.1]  [23/Feb/2014:03:10:31 +0100]   \n",
       "3  [localhost]  [127.0.0.1]  [23/Feb/2014:03:10:31 +0100]   \n",
       "4  [localhost]  [127.0.0.1]  [23/Feb/2014:03:10:31 +0100]   \n",
       "\n",
       "                Peticio Status Size Referer  \\\n",
       "0  [OPTIONS * HTTP/1.0]  [200]  [-]     [-]   \n",
       "1  [OPTIONS * HTTP/1.0]  [200]  [-]     [-]   \n",
       "2  [OPTIONS * HTTP/1.0]  [200]  [-]     [-]   \n",
       "3  [OPTIONS * HTTP/1.0]  [200]  [-]     [-]   \n",
       "4  [OPTIONS * HTTP/1.0]  [200]  [-]     [-]   \n",
       "\n",
       "                             Dispositiu  \n",
       "0  [Apache (internal dummy connection)]  \n",
       "1  [Apache (internal dummy connection)]  \n",
       "2  [Apache (internal dummy connection)]  \n",
       "3  [Apache (internal dummy connection)]  \n",
       "4  [Apache (internal dummy connection)]  "
      ]
     },
     "execution_count": 12,
     "metadata": {},
     "output_type": "execute_result"
    }
   ],
   "source": [
    "# Es crea la variable (Navegador), que indica quin navegador web utilitza l'usuari\n",
    "# Regex: cometes + espai+ (Qualsevol caracter entre cometes), exclosos + espai + VLOG=-\n",
    "df_logs_final['Dispositiu'] = df_copy.iloc[:,0].apply(lambda x: re.findall(r'\"\\s\"(.+)\"\\sVLOG=-', str(x)))\n",
    "df_logs_final.head()"
   ]
  },
  {
   "cell_type": "markdown",
   "metadata": {},
   "source": [
    "## Nivell 2\n",
    "### - Exercici 2\n",
    "__Neteja, preprocesa, estructura i transforma (dataframe) les dades del registre d'Accés a la web.__"
   ]
  },
  {
   "cell_type": "code",
   "execution_count": 13,
   "metadata": {},
   "outputs": [],
   "source": [
    "# Es crea una copia de l'anterior dataframe\n",
    "df_prep = df_logs_final.copy()"
   ]
  },
  {
   "cell_type": "markdown",
   "metadata": {},
   "source": [
    "<span style='color:blue;font-size:18px'><b> De llista a string </b></span>"
   ]
  },
  {
   "cell_type": "code",
   "execution_count": 14,
   "metadata": {},
   "outputs": [],
   "source": [
    "# Com que cada valor es troba dins d'una llista, es crea una funció que, donat un dataframe y el número de les columnes,\n",
    "# extregui el valor de la llista per a cada variable\n",
    "def no_llista(data,num_col):\n",
    "    for i in num_col:\n",
    "        data.iloc[:,i] = [''.join(x) for x in data.iloc[:,i]]\n",
    "    return data"
   ]
  },
  {
   "cell_type": "code",
   "execution_count": 15,
   "metadata": {},
   "outputs": [
    {
     "data": {
      "text/html": [
       "<div>\n",
       "<style scoped>\n",
       "    .dataframe tbody tr th:only-of-type {\n",
       "        vertical-align: middle;\n",
       "    }\n",
       "\n",
       "    .dataframe tbody tr th {\n",
       "        vertical-align: top;\n",
       "    }\n",
       "\n",
       "    .dataframe thead th {\n",
       "        text-align: right;\n",
       "    }\n",
       "</style>\n",
       "<table border=\"1\" class=\"dataframe\">\n",
       "  <thead>\n",
       "    <tr style=\"text-align: right;\">\n",
       "      <th></th>\n",
       "      <th>Host</th>\n",
       "      <th>IP</th>\n",
       "      <th>Moment_conexio</th>\n",
       "      <th>Peticio</th>\n",
       "      <th>Status</th>\n",
       "      <th>Size</th>\n",
       "      <th>Referer</th>\n",
       "      <th>Dispositiu</th>\n",
       "    </tr>\n",
       "  </thead>\n",
       "  <tbody>\n",
       "    <tr>\n",
       "      <th>0</th>\n",
       "      <td>localhost</td>\n",
       "      <td>127.0.0.1</td>\n",
       "      <td>23/Feb/2014:03:10:31 +0100</td>\n",
       "      <td>OPTIONS * HTTP/1.0</td>\n",
       "      <td>200</td>\n",
       "      <td>-</td>\n",
       "      <td>-</td>\n",
       "      <td>Apache (internal dummy connection)</td>\n",
       "    </tr>\n",
       "    <tr>\n",
       "      <th>1</th>\n",
       "      <td>localhost</td>\n",
       "      <td>127.0.0.1</td>\n",
       "      <td>23/Feb/2014:03:10:31 +0100</td>\n",
       "      <td>OPTIONS * HTTP/1.0</td>\n",
       "      <td>200</td>\n",
       "      <td>-</td>\n",
       "      <td>-</td>\n",
       "      <td>Apache (internal dummy connection)</td>\n",
       "    </tr>\n",
       "    <tr>\n",
       "      <th>2</th>\n",
       "      <td>localhost</td>\n",
       "      <td>127.0.0.1</td>\n",
       "      <td>23/Feb/2014:03:10:31 +0100</td>\n",
       "      <td>OPTIONS * HTTP/1.0</td>\n",
       "      <td>200</td>\n",
       "      <td>-</td>\n",
       "      <td>-</td>\n",
       "      <td>Apache (internal dummy connection)</td>\n",
       "    </tr>\n",
       "    <tr>\n",
       "      <th>3</th>\n",
       "      <td>localhost</td>\n",
       "      <td>127.0.0.1</td>\n",
       "      <td>23/Feb/2014:03:10:31 +0100</td>\n",
       "      <td>OPTIONS * HTTP/1.0</td>\n",
       "      <td>200</td>\n",
       "      <td>-</td>\n",
       "      <td>-</td>\n",
       "      <td>Apache (internal dummy connection)</td>\n",
       "    </tr>\n",
       "    <tr>\n",
       "      <th>4</th>\n",
       "      <td>localhost</td>\n",
       "      <td>127.0.0.1</td>\n",
       "      <td>23/Feb/2014:03:10:31 +0100</td>\n",
       "      <td>OPTIONS * HTTP/1.0</td>\n",
       "      <td>200</td>\n",
       "      <td>-</td>\n",
       "      <td>-</td>\n",
       "      <td>Apache (internal dummy connection)</td>\n",
       "    </tr>\n",
       "  </tbody>\n",
       "</table>\n",
       "</div>"
      ],
      "text/plain": [
       "        Host         IP              Moment_conexio             Peticio  \\\n",
       "0  localhost  127.0.0.1  23/Feb/2014:03:10:31 +0100  OPTIONS * HTTP/1.0   \n",
       "1  localhost  127.0.0.1  23/Feb/2014:03:10:31 +0100  OPTIONS * HTTP/1.0   \n",
       "2  localhost  127.0.0.1  23/Feb/2014:03:10:31 +0100  OPTIONS * HTTP/1.0   \n",
       "3  localhost  127.0.0.1  23/Feb/2014:03:10:31 +0100  OPTIONS * HTTP/1.0   \n",
       "4  localhost  127.0.0.1  23/Feb/2014:03:10:31 +0100  OPTIONS * HTTP/1.0   \n",
       "\n",
       "  Status Size Referer                          Dispositiu  \n",
       "0    200    -       -  Apache (internal dummy connection)  \n",
       "1    200    -       -  Apache (internal dummy connection)  \n",
       "2    200    -       -  Apache (internal dummy connection)  \n",
       "3    200    -       -  Apache (internal dummy connection)  \n",
       "4    200    -       -  Apache (internal dummy connection)  "
      ]
     },
     "execution_count": 15,
     "metadata": {},
     "output_type": "execute_result"
    }
   ],
   "source": [
    "# S'aplica la funció\n",
    "data_final = no_llista(df_prep,range(8))\n",
    "data_final.head()"
   ]
  },
  {
   "cell_type": "markdown",
   "metadata": {},
   "source": [
    "<span style='color:blue;font-size:18px'><b> Moment_conexio: de string a datetime </b></span>"
   ]
  },
  {
   "cell_type": "code",
   "execution_count": 16,
   "metadata": {},
   "outputs": [
    {
     "data": {
      "text/html": [
       "<div>\n",
       "<style scoped>\n",
       "    .dataframe tbody tr th:only-of-type {\n",
       "        vertical-align: middle;\n",
       "    }\n",
       "\n",
       "    .dataframe tbody tr th {\n",
       "        vertical-align: top;\n",
       "    }\n",
       "\n",
       "    .dataframe thead th {\n",
       "        text-align: right;\n",
       "    }\n",
       "</style>\n",
       "<table border=\"1\" class=\"dataframe\">\n",
       "  <thead>\n",
       "    <tr style=\"text-align: right;\">\n",
       "      <th></th>\n",
       "      <th>Host</th>\n",
       "      <th>IP</th>\n",
       "      <th>Moment_conexio</th>\n",
       "      <th>Peticio</th>\n",
       "      <th>Status</th>\n",
       "      <th>Size</th>\n",
       "      <th>Referer</th>\n",
       "      <th>Dispositiu</th>\n",
       "    </tr>\n",
       "  </thead>\n",
       "  <tbody>\n",
       "    <tr>\n",
       "      <th>0</th>\n",
       "      <td>localhost</td>\n",
       "      <td>127.0.0.1</td>\n",
       "      <td>2014-02-23 03:10:31+01:00</td>\n",
       "      <td>OPTIONS * HTTP/1.0</td>\n",
       "      <td>200</td>\n",
       "      <td>-</td>\n",
       "      <td>-</td>\n",
       "      <td>Apache (internal dummy connection)</td>\n",
       "    </tr>\n",
       "    <tr>\n",
       "      <th>1</th>\n",
       "      <td>localhost</td>\n",
       "      <td>127.0.0.1</td>\n",
       "      <td>2014-02-23 03:10:31+01:00</td>\n",
       "      <td>OPTIONS * HTTP/1.0</td>\n",
       "      <td>200</td>\n",
       "      <td>-</td>\n",
       "      <td>-</td>\n",
       "      <td>Apache (internal dummy connection)</td>\n",
       "    </tr>\n",
       "    <tr>\n",
       "      <th>2</th>\n",
       "      <td>localhost</td>\n",
       "      <td>127.0.0.1</td>\n",
       "      <td>2014-02-23 03:10:31+01:00</td>\n",
       "      <td>OPTIONS * HTTP/1.0</td>\n",
       "      <td>200</td>\n",
       "      <td>-</td>\n",
       "      <td>-</td>\n",
       "      <td>Apache (internal dummy connection)</td>\n",
       "    </tr>\n",
       "    <tr>\n",
       "      <th>3</th>\n",
       "      <td>localhost</td>\n",
       "      <td>127.0.0.1</td>\n",
       "      <td>2014-02-23 03:10:31+01:00</td>\n",
       "      <td>OPTIONS * HTTP/1.0</td>\n",
       "      <td>200</td>\n",
       "      <td>-</td>\n",
       "      <td>-</td>\n",
       "      <td>Apache (internal dummy connection)</td>\n",
       "    </tr>\n",
       "    <tr>\n",
       "      <th>4</th>\n",
       "      <td>localhost</td>\n",
       "      <td>127.0.0.1</td>\n",
       "      <td>2014-02-23 03:10:31+01:00</td>\n",
       "      <td>OPTIONS * HTTP/1.0</td>\n",
       "      <td>200</td>\n",
       "      <td>-</td>\n",
       "      <td>-</td>\n",
       "      <td>Apache (internal dummy connection)</td>\n",
       "    </tr>\n",
       "  </tbody>\n",
       "</table>\n",
       "</div>"
      ],
      "text/plain": [
       "        Host         IP            Moment_conexio             Peticio Status  \\\n",
       "0  localhost  127.0.0.1 2014-02-23 03:10:31+01:00  OPTIONS * HTTP/1.0    200   \n",
       "1  localhost  127.0.0.1 2014-02-23 03:10:31+01:00  OPTIONS * HTTP/1.0    200   \n",
       "2  localhost  127.0.0.1 2014-02-23 03:10:31+01:00  OPTIONS * HTTP/1.0    200   \n",
       "3  localhost  127.0.0.1 2014-02-23 03:10:31+01:00  OPTIONS * HTTP/1.0    200   \n",
       "4  localhost  127.0.0.1 2014-02-23 03:10:31+01:00  OPTIONS * HTTP/1.0    200   \n",
       "\n",
       "  Size Referer                          Dispositiu  \n",
       "0    -       -  Apache (internal dummy connection)  \n",
       "1    -       -  Apache (internal dummy connection)  \n",
       "2    -       -  Apache (internal dummy connection)  \n",
       "3    -       -  Apache (internal dummy connection)  \n",
       "4    -       -  Apache (internal dummy connection)  "
      ]
     },
     "execution_count": 16,
     "metadata": {},
     "output_type": "execute_result"
    }
   ],
   "source": [
    "# La variable Moment_conexio és un string i es vol convertir-lo en format datetime\n",
    "data_final['Moment_conexio'] = pd.to_datetime(data_final['Moment_conexio'], format='%d/%b/%Y:%H:%M:%S %z')\n",
    "data_final.head()"
   ]
  },
  {
   "cell_type": "markdown",
   "metadata": {},
   "source": [
    "<span style='color:blue;font-size:18px'><b> Creació de les variables Data i Hora </b></span>"
   ]
  },
  {
   "cell_type": "code",
   "execution_count": 17,
   "metadata": {},
   "outputs": [
    {
     "data": {
      "text/html": [
       "<div>\n",
       "<style scoped>\n",
       "    .dataframe tbody tr th:only-of-type {\n",
       "        vertical-align: middle;\n",
       "    }\n",
       "\n",
       "    .dataframe tbody tr th {\n",
       "        vertical-align: top;\n",
       "    }\n",
       "\n",
       "    .dataframe thead th {\n",
       "        text-align: right;\n",
       "    }\n",
       "</style>\n",
       "<table border=\"1\" class=\"dataframe\">\n",
       "  <thead>\n",
       "    <tr style=\"text-align: right;\">\n",
       "      <th></th>\n",
       "      <th>Host</th>\n",
       "      <th>IP</th>\n",
       "      <th>Peticio</th>\n",
       "      <th>Status</th>\n",
       "      <th>Size</th>\n",
       "      <th>Referer</th>\n",
       "      <th>Dispositiu</th>\n",
       "      <th>Dia</th>\n",
       "      <th>Hora</th>\n",
       "    </tr>\n",
       "  </thead>\n",
       "  <tbody>\n",
       "    <tr>\n",
       "      <th>0</th>\n",
       "      <td>localhost</td>\n",
       "      <td>127.0.0.1</td>\n",
       "      <td>OPTIONS * HTTP/1.0</td>\n",
       "      <td>200</td>\n",
       "      <td>-</td>\n",
       "      <td>-</td>\n",
       "      <td>Apache (internal dummy connection)</td>\n",
       "      <td>2014-02-23</td>\n",
       "      <td>03:10:31</td>\n",
       "    </tr>\n",
       "    <tr>\n",
       "      <th>1</th>\n",
       "      <td>localhost</td>\n",
       "      <td>127.0.0.1</td>\n",
       "      <td>OPTIONS * HTTP/1.0</td>\n",
       "      <td>200</td>\n",
       "      <td>-</td>\n",
       "      <td>-</td>\n",
       "      <td>Apache (internal dummy connection)</td>\n",
       "      <td>2014-02-23</td>\n",
       "      <td>03:10:31</td>\n",
       "    </tr>\n",
       "    <tr>\n",
       "      <th>2</th>\n",
       "      <td>localhost</td>\n",
       "      <td>127.0.0.1</td>\n",
       "      <td>OPTIONS * HTTP/1.0</td>\n",
       "      <td>200</td>\n",
       "      <td>-</td>\n",
       "      <td>-</td>\n",
       "      <td>Apache (internal dummy connection)</td>\n",
       "      <td>2014-02-23</td>\n",
       "      <td>03:10:31</td>\n",
       "    </tr>\n",
       "    <tr>\n",
       "      <th>3</th>\n",
       "      <td>localhost</td>\n",
       "      <td>127.0.0.1</td>\n",
       "      <td>OPTIONS * HTTP/1.0</td>\n",
       "      <td>200</td>\n",
       "      <td>-</td>\n",
       "      <td>-</td>\n",
       "      <td>Apache (internal dummy connection)</td>\n",
       "      <td>2014-02-23</td>\n",
       "      <td>03:10:31</td>\n",
       "    </tr>\n",
       "    <tr>\n",
       "      <th>4</th>\n",
       "      <td>localhost</td>\n",
       "      <td>127.0.0.1</td>\n",
       "      <td>OPTIONS * HTTP/1.0</td>\n",
       "      <td>200</td>\n",
       "      <td>-</td>\n",
       "      <td>-</td>\n",
       "      <td>Apache (internal dummy connection)</td>\n",
       "      <td>2014-02-23</td>\n",
       "      <td>03:10:31</td>\n",
       "    </tr>\n",
       "  </tbody>\n",
       "</table>\n",
       "</div>"
      ],
      "text/plain": [
       "        Host         IP             Peticio Status Size Referer  \\\n",
       "0  localhost  127.0.0.1  OPTIONS * HTTP/1.0    200    -       -   \n",
       "1  localhost  127.0.0.1  OPTIONS * HTTP/1.0    200    -       -   \n",
       "2  localhost  127.0.0.1  OPTIONS * HTTP/1.0    200    -       -   \n",
       "3  localhost  127.0.0.1  OPTIONS * HTTP/1.0    200    -       -   \n",
       "4  localhost  127.0.0.1  OPTIONS * HTTP/1.0    200    -       -   \n",
       "\n",
       "                           Dispositiu        Dia      Hora  \n",
       "0  Apache (internal dummy connection) 2014-02-23  03:10:31  \n",
       "1  Apache (internal dummy connection) 2014-02-23  03:10:31  \n",
       "2  Apache (internal dummy connection) 2014-02-23  03:10:31  \n",
       "3  Apache (internal dummy connection) 2014-02-23  03:10:31  \n",
       "4  Apache (internal dummy connection) 2014-02-23  03:10:31  "
      ]
     },
     "execution_count": 17,
     "metadata": {},
     "output_type": "execute_result"
    }
   ],
   "source": [
    "data_final['Dia'] = data_final['Moment_conexio'].dt.strftime('%d/%b/%Y')\n",
    "data_final['Dia'] = data_final['Dia'].apply(lambda x: dt.datetime.strptime(x,'%d/%b/%Y'))\n",
    "data_final['Hora'] = data_final['Moment_conexio'].dt.time\n",
    "data_final.drop(columns=['Moment_conexio'],inplace=True)\n",
    "data_final.head()"
   ]
  },
  {
   "cell_type": "markdown",
   "metadata": {},
   "source": [
    "<span style='color:blue;font-size:18px'><b> Creació de de les variables client_name, client_type, client_version, os_name, os_version i device_type </b></span>"
   ]
  },
  {
   "cell_type": "code",
   "execution_count": 18,
   "metadata": {},
   "outputs": [],
   "source": [
    "# Es crea la variable Device, que conté diversos tipus de dades de la variable Dispositiu:\n",
    "data_final['Device'] = data_final['Dispositiu'].apply(lambda x: SoftwareDetector(x).parse())"
   ]
  },
  {
   "cell_type": "code",
   "execution_count": 19,
   "metadata": {},
   "outputs": [],
   "source": [
    "# Es creen les noves variables extraïent la informació de la variable Device\n",
    "data_final['client_name'] = data_final['Device'].apply(lambda x: x.client_name())\n",
    "data_final['client_type'] = data_final['Device'].apply(lambda x: x.client_type())\n",
    "data_final['client_version'] = data_final['Device'].apply(lambda x: x.client_version())\n",
    "data_final['os_name'] = data_final['Device'].apply(lambda x: x.os_name())\n",
    "data_final['os_version'] = data_final['Device'].apply(lambda x: x.os_version())\n",
    "data_final['device_type'] = data_final['Device'].apply(lambda x: x.device_type())"
   ]
  },
  {
   "cell_type": "code",
   "execution_count": 20,
   "metadata": {},
   "outputs": [],
   "source": [
    "# S'eliminen les columnes Dispositiu i Device\n",
    "data_final.drop(columns=['Dispositiu','Device'],inplace=True)"
   ]
  },
  {
   "cell_type": "code",
   "execution_count": 21,
   "metadata": {},
   "outputs": [
    {
     "data": {
      "text/html": [
       "<div>\n",
       "<style scoped>\n",
       "    .dataframe tbody tr th:only-of-type {\n",
       "        vertical-align: middle;\n",
       "    }\n",
       "\n",
       "    .dataframe tbody tr th {\n",
       "        vertical-align: top;\n",
       "    }\n",
       "\n",
       "    .dataframe thead th {\n",
       "        text-align: right;\n",
       "    }\n",
       "</style>\n",
       "<table border=\"1\" class=\"dataframe\">\n",
       "  <thead>\n",
       "    <tr style=\"text-align: right;\">\n",
       "      <th></th>\n",
       "      <th>Host</th>\n",
       "      <th>IP</th>\n",
       "      <th>Peticio</th>\n",
       "      <th>Status</th>\n",
       "      <th>Size</th>\n",
       "      <th>Referer</th>\n",
       "      <th>Dia</th>\n",
       "      <th>Hora</th>\n",
       "      <th>client_name</th>\n",
       "      <th>client_type</th>\n",
       "      <th>client_version</th>\n",
       "      <th>os_name</th>\n",
       "      <th>os_version</th>\n",
       "      <th>device_type</th>\n",
       "    </tr>\n",
       "  </thead>\n",
       "  <tbody>\n",
       "    <tr>\n",
       "      <th>0</th>\n",
       "      <td>localhost</td>\n",
       "      <td>127.0.0.1</td>\n",
       "      <td>OPTIONS * HTTP/1.0</td>\n",
       "      <td>200</td>\n",
       "      <td>-</td>\n",
       "      <td>-</td>\n",
       "      <td>2014-02-23</td>\n",
       "      <td>03:10:31</td>\n",
       "      <td>Apache (internal dummy connection)</td>\n",
       "      <td>generic</td>\n",
       "      <td>None</td>\n",
       "      <td></td>\n",
       "      <td></td>\n",
       "      <td></td>\n",
       "    </tr>\n",
       "    <tr>\n",
       "      <th>1</th>\n",
       "      <td>localhost</td>\n",
       "      <td>127.0.0.1</td>\n",
       "      <td>OPTIONS * HTTP/1.0</td>\n",
       "      <td>200</td>\n",
       "      <td>-</td>\n",
       "      <td>-</td>\n",
       "      <td>2014-02-23</td>\n",
       "      <td>03:10:31</td>\n",
       "      <td>Apache (internal dummy connection)</td>\n",
       "      <td>generic</td>\n",
       "      <td>None</td>\n",
       "      <td></td>\n",
       "      <td></td>\n",
       "      <td></td>\n",
       "    </tr>\n",
       "    <tr>\n",
       "      <th>2</th>\n",
       "      <td>localhost</td>\n",
       "      <td>127.0.0.1</td>\n",
       "      <td>OPTIONS * HTTP/1.0</td>\n",
       "      <td>200</td>\n",
       "      <td>-</td>\n",
       "      <td>-</td>\n",
       "      <td>2014-02-23</td>\n",
       "      <td>03:10:31</td>\n",
       "      <td>Apache (internal dummy connection)</td>\n",
       "      <td>generic</td>\n",
       "      <td>None</td>\n",
       "      <td></td>\n",
       "      <td></td>\n",
       "      <td></td>\n",
       "    </tr>\n",
       "    <tr>\n",
       "      <th>3</th>\n",
       "      <td>localhost</td>\n",
       "      <td>127.0.0.1</td>\n",
       "      <td>OPTIONS * HTTP/1.0</td>\n",
       "      <td>200</td>\n",
       "      <td>-</td>\n",
       "      <td>-</td>\n",
       "      <td>2014-02-23</td>\n",
       "      <td>03:10:31</td>\n",
       "      <td>Apache (internal dummy connection)</td>\n",
       "      <td>generic</td>\n",
       "      <td>None</td>\n",
       "      <td></td>\n",
       "      <td></td>\n",
       "      <td></td>\n",
       "    </tr>\n",
       "    <tr>\n",
       "      <th>4</th>\n",
       "      <td>localhost</td>\n",
       "      <td>127.0.0.1</td>\n",
       "      <td>OPTIONS * HTTP/1.0</td>\n",
       "      <td>200</td>\n",
       "      <td>-</td>\n",
       "      <td>-</td>\n",
       "      <td>2014-02-23</td>\n",
       "      <td>03:10:31</td>\n",
       "      <td>Apache (internal dummy connection)</td>\n",
       "      <td>generic</td>\n",
       "      <td>None</td>\n",
       "      <td></td>\n",
       "      <td></td>\n",
       "      <td></td>\n",
       "    </tr>\n",
       "  </tbody>\n",
       "</table>\n",
       "</div>"
      ],
      "text/plain": [
       "        Host         IP             Peticio Status Size Referer        Dia  \\\n",
       "0  localhost  127.0.0.1  OPTIONS * HTTP/1.0    200    -       - 2014-02-23   \n",
       "1  localhost  127.0.0.1  OPTIONS * HTTP/1.0    200    -       - 2014-02-23   \n",
       "2  localhost  127.0.0.1  OPTIONS * HTTP/1.0    200    -       - 2014-02-23   \n",
       "3  localhost  127.0.0.1  OPTIONS * HTTP/1.0    200    -       - 2014-02-23   \n",
       "4  localhost  127.0.0.1  OPTIONS * HTTP/1.0    200    -       - 2014-02-23   \n",
       "\n",
       "       Hora                         client_name client_type client_version  \\\n",
       "0  03:10:31  Apache (internal dummy connection)     generic           None   \n",
       "1  03:10:31  Apache (internal dummy connection)     generic           None   \n",
       "2  03:10:31  Apache (internal dummy connection)     generic           None   \n",
       "3  03:10:31  Apache (internal dummy connection)     generic           None   \n",
       "4  03:10:31  Apache (internal dummy connection)     generic           None   \n",
       "\n",
       "  os_name os_version device_type  \n",
       "0                                 \n",
       "1                                 \n",
       "2                                 \n",
       "3                                 \n",
       "4                                 "
      ]
     },
     "execution_count": 21,
     "metadata": {},
     "output_type": "execute_result"
    }
   ],
   "source": [
    "# Taula final\n",
    "data_final.head()"
   ]
  },
  {
   "cell_type": "markdown",
   "metadata": {},
   "source": [
    "### - Exercici 3\n",
    "__Geolocalitza les IP's__"
   ]
  },
  {
   "cell_type": "code",
   "execution_count": null,
   "metadata": {},
   "outputs": [],
   "source": []
  },
  {
   "cell_type": "markdown",
   "metadata": {},
   "source": [
    "## Nivell 3\n",
    "### - Exercici 4\n",
    "__Mostra la teva creativitat, fes un pas més enllà amb l'anàlisi anterior.__"
   ]
  },
  {
   "cell_type": "markdown",
   "metadata": {},
   "source": [
    "<span style='color:blue;font-size:18px'><b> Anàlisi Descriptiu </b></span>"
   ]
  },
  {
   "cell_type": "code",
   "execution_count": 22,
   "metadata": {},
   "outputs": [
    {
     "data": {
      "text/html": [
       "<div>\n",
       "<style scoped>\n",
       "    .dataframe tbody tr th:only-of-type {\n",
       "        vertical-align: middle;\n",
       "    }\n",
       "\n",
       "    .dataframe tbody tr th {\n",
       "        vertical-align: top;\n",
       "    }\n",
       "\n",
       "    .dataframe thead th {\n",
       "        text-align: right;\n",
       "    }\n",
       "</style>\n",
       "<table border=\"1\" class=\"dataframe\">\n",
       "  <thead>\n",
       "    <tr style=\"text-align: right;\">\n",
       "      <th></th>\n",
       "      <th>Host</th>\n",
       "      <th>IP</th>\n",
       "      <th>Peticio</th>\n",
       "      <th>Status</th>\n",
       "      <th>Size</th>\n",
       "      <th>Referer</th>\n",
       "      <th>Hora</th>\n",
       "      <th>client_name</th>\n",
       "      <th>client_type</th>\n",
       "      <th>client_version</th>\n",
       "      <th>os_name</th>\n",
       "      <th>os_version</th>\n",
       "      <th>device_type</th>\n",
       "    </tr>\n",
       "  </thead>\n",
       "  <tbody>\n",
       "    <tr>\n",
       "      <th>count</th>\n",
       "      <td>261873</td>\n",
       "      <td>261873</td>\n",
       "      <td>261873</td>\n",
       "      <td>261873</td>\n",
       "      <td>261873</td>\n",
       "      <td>261873</td>\n",
       "      <td>261873</td>\n",
       "      <td>261873</td>\n",
       "      <td>261873</td>\n",
       "      <td>247549</td>\n",
       "      <td>261873</td>\n",
       "      <td>261873</td>\n",
       "      <td>261873</td>\n",
       "    </tr>\n",
       "    <tr>\n",
       "      <th>unique</th>\n",
       "      <td>5</td>\n",
       "      <td>2922</td>\n",
       "      <td>66764</td>\n",
       "      <td>12</td>\n",
       "      <td>15548</td>\n",
       "      <td>2507</td>\n",
       "      <td>66635</td>\n",
       "      <td>100</td>\n",
       "      <td>7</td>\n",
       "      <td>156</td>\n",
       "      <td>14</td>\n",
       "      <td>69</td>\n",
       "      <td>4</td>\n",
       "    </tr>\n",
       "    <tr>\n",
       "      <th>top</th>\n",
       "      <td>www.akumenius.com</td>\n",
       "      <td>66.249.76.216</td>\n",
       "      <td>OPTIONS * HTTP/1.0</td>\n",
       "      <td>200</td>\n",
       "      <td>-</td>\n",
       "      <td>-</td>\n",
       "      <td>16:19:28</td>\n",
       "      <td>Googlebot</td>\n",
       "      <td>browser</td>\n",
       "      <td>2.1</td>\n",
       "      <td></td>\n",
       "      <td></td>\n",
       "      <td></td>\n",
       "    </tr>\n",
       "    <tr>\n",
       "      <th>freq</th>\n",
       "      <td>232300</td>\n",
       "      <td>46382</td>\n",
       "      <td>13892</td>\n",
       "      <td>226382</td>\n",
       "      <td>42335</td>\n",
       "      <td>99547</td>\n",
       "      <td>99</td>\n",
       "      <td>50914</td>\n",
       "      <td>163070</td>\n",
       "      <td>50919</td>\n",
       "      <td>96193</td>\n",
       "      <td>100665</td>\n",
       "      <td>140052</td>\n",
       "    </tr>\n",
       "  </tbody>\n",
       "</table>\n",
       "</div>"
      ],
      "text/plain": [
       "                     Host             IP             Peticio  Status    Size  \\\n",
       "count              261873         261873              261873  261873  261873   \n",
       "unique                  5           2922               66764      12   15548   \n",
       "top     www.akumenius.com  66.249.76.216  OPTIONS * HTTP/1.0     200       -   \n",
       "freq               232300          46382               13892  226382   42335   \n",
       "\n",
       "       Referer      Hora client_name client_type client_version os_name  \\\n",
       "count   261873    261873      261873      261873         247549  261873   \n",
       "unique    2507     66635         100           7            156      14   \n",
       "top          -  16:19:28   Googlebot     browser            2.1           \n",
       "freq     99547        99       50914      163070          50919   96193   \n",
       "\n",
       "       os_version device_type  \n",
       "count      261873      261873  \n",
       "unique         69           4  \n",
       "top                            \n",
       "freq       100665      140052  "
      ]
     },
     "execution_count": 22,
     "metadata": {},
     "output_type": "execute_result"
    }
   ],
   "source": [
    "data_final.describe(include='object')"
   ]
  },
  {
   "cell_type": "markdown",
   "metadata": {},
   "source": [
    "<span style='color:blue;font-size:18px'><b> Gràfics univariants </b></span>"
   ]
  },
  {
   "cell_type": "code",
   "execution_count": 23,
   "metadata": {},
   "outputs": [
    {
     "data": {
      "image/png": "[encoded data removed]",
      "text/plain": [
       "<Figure size 576x360 with 1 Axes>"
      ]
     },
     "metadata": {
      "needs_background": "light"
     },
     "output_type": "display_data"
    }
   ],
   "source": [
    "# Gràfic de barres: Host\n",
    "data_H = data_final[['Host','IP']].groupby(['Host']).count().sort_values(by='IP',ascending=False)\n",
    "data_H = data_H.rename(columns={'IP' : 'Freq_abs'})\n",
    "data_H.plot.bar(y='Freq_abs', color='red', ylabel='Freqüència absoluta', legend=None, figsize=(8,5))\n",
    "plt.show()"
   ]
  },
  {
   "cell_type": "code",
   "execution_count": 24,
   "metadata": {},
   "outputs": [
    {
     "data": {
      "image/png": "[encoded data removed]",
      "text/plain": [
       "<Figure size 720x360 with 1 Axes>"
      ]
     },
     "metadata": {
      "needs_background": "light"
     },
     "output_type": "display_data"
    }
   ],
   "source": [
    "# Gràfic de barres: Status\n",
    "data_H = data_final[['Status','IP']].groupby(['Status']).count().sort_values(by='IP',ascending=False)\n",
    "data_H = data_H.rename(columns={'IP' : 'Freq_abs'})\n",
    "data_H.plot.bar(y='Freq_abs', color='blue', ylabel='Freqüència absoluta', legend=None, figsize=(10,5))\n",
    "plt.show()"
   ]
  },
  {
   "cell_type": "markdown",
   "metadata": {},
   "source": [
    "<span style='color:blue'> En la gran majoria de registres la petició s'ha produït correctament (Status = 200) </span>"
   ]
  },
  {
   "cell_type": "code",
   "execution_count": 25,
   "metadata": {},
   "outputs": [
    {
     "data": {
      "image/png": "[encoded data removed]",
      "text/plain": [
       "<Figure size 720x360 with 1 Axes>"
      ]
     },
     "metadata": {
      "needs_background": "light"
     },
     "output_type": "display_data"
    }
   ],
   "source": [
    "# Gràfic de barres: client_type\n",
    "data_H = data_final[['client_type','IP']].groupby(['client_type']).count().sort_values(by='IP',ascending=False)\n",
    "data_H = data_H.rename(columns={'IP' : 'Freq_abs'})\n",
    "data_H.plot.bar(y='Freq_abs', color='orange', ylabel='Freqüència absoluta', legend=None, figsize=(10,5))\n",
    "plt.show()"
   ]
  },
  {
   "cell_type": "code",
   "execution_count": 26,
   "metadata": {},
   "outputs": [
    {
     "data": {
      "image/png": "[encoded data removed]",
      "text/plain": [
       "<Figure size 720x360 with 1 Axes>"
      ]
     },
     "metadata": {
      "needs_background": "light"
     },
     "output_type": "display_data"
    }
   ],
   "source": [
    "# Gràfic de barres: os_name\n",
    "data_H = data_final[['os_name','IP']].groupby(['os_name']).count().sort_values(by='IP',ascending=False)\n",
    "data_H = data_H.rename(columns={'IP' : 'Freq_abs'})\n",
    "data_H.plot.bar(y='Freq_abs', color='purple', ylabel='Freqüència absoluta', legend=None, figsize=(10,5))\n",
    "plt.show()"
   ]
  },
  {
   "cell_type": "markdown",
   "metadata": {},
   "source": [
    "<span style='color:blue'> El Sistema Operatiu més utilitzat per a realitzar les peticions és Windows </span>"
   ]
  },
  {
   "cell_type": "code",
   "execution_count": 27,
   "metadata": {},
   "outputs": [
    {
     "data": {
      "image/png": "[encoded data removed]",
      "text/plain": [
       "<Figure size 720x360 with 1 Axes>"
      ]
     },
     "metadata": {
      "needs_background": "light"
     },
     "output_type": "display_data"
    }
   ],
   "source": [
    "# Gràfic de barres: device_type\n",
    "data_H = data_final[['device_type','IP']].groupby(['device_type']).count().sort_values(by='IP',ascending=False)\n",
    "data_H = data_H.rename(columns={'IP' : 'Freq_abs'})\n",
    "data_H.plot.bar(y='Freq_abs', color='gray', ylabel='Freqüència absoluta', legend=None, figsize=(10,5))\n",
    "plt.show()"
   ]
  },
  {
   "cell_type": "markdown",
   "metadata": {},
   "source": [
    "<span style='color:blue'> El dispositiu més utilitzat per a realitzar les peticions és l'ordinador </span>"
   ]
  },
  {
   "cell_type": "markdown",
   "metadata": {},
   "source": [
    "<span style='color:blue;font-size:18px'><b> Gràfics de sèries temporals </b></span>"
   ]
  },
  {
   "cell_type": "code",
   "execution_count": 28,
   "metadata": {},
   "outputs": [
    {
     "data": {
      "text/html": [
       "<div>\n",
       "<style scoped>\n",
       "    .dataframe tbody tr th:only-of-type {\n",
       "        vertical-align: middle;\n",
       "    }\n",
       "\n",
       "    .dataframe tbody tr th {\n",
       "        vertical-align: top;\n",
       "    }\n",
       "\n",
       "    .dataframe thead th {\n",
       "        text-align: right;\n",
       "    }\n",
       "</style>\n",
       "<table border=\"1\" class=\"dataframe\">\n",
       "  <thead>\n",
       "    <tr style=\"text-align: right;\">\n",
       "      <th></th>\n",
       "      <th></th>\n",
       "      <th>Ocurrencies</th>\n",
       "    </tr>\n",
       "    <tr>\n",
       "      <th>Dia</th>\n",
       "      <th>Status</th>\n",
       "      <th></th>\n",
       "    </tr>\n",
       "  </thead>\n",
       "  <tbody>\n",
       "    <tr>\n",
       "      <th rowspan=\"5\" valign=\"top\">2014-02-23</th>\n",
       "      <th>200</th>\n",
       "      <td>34061</td>\n",
       "    </tr>\n",
       "    <tr>\n",
       "      <th>206</th>\n",
       "      <td>9</td>\n",
       "    </tr>\n",
       "    <tr>\n",
       "      <th>301</th>\n",
       "      <td>80</td>\n",
       "    </tr>\n",
       "    <tr>\n",
       "      <th>304</th>\n",
       "      <td>330</td>\n",
       "    </tr>\n",
       "    <tr>\n",
       "      <th>400</th>\n",
       "      <td>1</td>\n",
       "    </tr>\n",
       "  </tbody>\n",
       "</table>\n",
       "</div>"
      ],
      "text/plain": [
       "                   Ocurrencies\n",
       "Dia        Status             \n",
       "2014-02-23 200           34061\n",
       "           206               9\n",
       "           301              80\n",
       "           304             330\n",
       "           400               1"
      ]
     },
     "execution_count": 28,
     "metadata": {},
     "output_type": "execute_result"
    }
   ],
   "source": [
    "# Status\n",
    "# Es crea una taula amb el compteig de registres pero día i status\n",
    "data_ST = data_final.loc[:,['Status','Dia','IP']].groupby(['Dia','Status']).count()\n",
    "data_ST.rename(columns={'IP' : 'Ocurrencies'},inplace=True)\n",
    "data_ST.head()"
   ]
  },
  {
   "cell_type": "code",
   "execution_count": 29,
   "metadata": {},
   "outputs": [
    {
     "data": {
      "image/png": "[encoded data removed]",
      "text/plain": [
       "<Figure size 864x504 with 1 Axes>"
      ]
     },
     "metadata": {
      "needs_background": "light"
     },
     "output_type": "display_data"
    }
   ],
   "source": [
    "#Es construeix el plot\n",
    "plt.figure(figsize=(12,7))\n",
    "sns.lineplot(x='Dia',y='Ocurrencies',data=data_ST,hue='Status')\n",
    "plt.xticks(rotation=90)\n",
    "plt.show()"
   ]
  },
  {
   "cell_type": "markdown",
   "metadata": {},
   "source": [
    "<span style='color:blue'> El dia 27 de febrer de 2014, quasi un terç del registres tenien Status 304 (problema de comunicació entre navegador i servidor). </span>"
   ]
  },
  {
   "cell_type": "markdown",
   "metadata": {},
   "source": [
    "<span style='color:blue;font-size:18px'><b> Exportació de la base de dades </b></span>"
   ]
  },
  {
   "cell_type": "code",
   "execution_count": 35,
   "metadata": {},
   "outputs": [],
   "source": [
    "# Es crea una copia\n",
    "data_export = data_final.copy()"
   ]
  },
  {
   "cell_type": "code",
   "execution_count": 36,
   "metadata": {},
   "outputs": [],
   "source": [
    "# Es substitueixen els valors en blanc per nulls\n",
    "data_export.replace('','null',inplace=True)"
   ]
  },
  {
   "cell_type": "code",
   "execution_count": 37,
   "metadata": {},
   "outputs": [],
   "source": [
    "# S'exporta a csv\n",
    "data_export.to_csv('arxiu_logs.csv',index=False)"
   ]
  }
 ],
 "metadata": {
  "kernelspec": {
   "display_name": "Python 3",
   "language": "python",
   "name": "python3"
  },
  "language_info": {
   "codemirror_mode": {
    "name": "ipython",
    "version": 3
   },
   "file_extension": ".py",
   "mimetype": "text/x-python",
   "name": "python",
   "nbconvert_exporter": "python",
   "pygments_lexer": "ipython3",
   "version": "3.8.5"
  }
 },
 "nbformat": 4,
 "nbformat_minor": 4
}
